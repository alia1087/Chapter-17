{
 "cells": [
  {
   "cell_type": "markdown",
   "id": "a491595f",
   "metadata": {},
   "source": [
    "# Exercise 17.2"
   ]
  },
  {
   "cell_type": "code",
   "execution_count": 33,
   "id": "72e64840",
   "metadata": {},
   "outputs": [],
   "source": [
    "import sqlite3"
   ]
  },
  {
   "cell_type": "code",
   "execution_count": 34,
   "id": "b1603cc5",
   "metadata": {},
   "outputs": [],
   "source": [
    "connection = sqlite3.connect('books.db')"
   ]
  },
  {
   "cell_type": "markdown",
   "id": "f6c1d9be",
   "metadata": {},
   "source": [
    "### create a cursor object"
   ]
  },
  {
   "cell_type": "code",
   "execution_count": 35,
   "id": "7aee973e",
   "metadata": {},
   "outputs": [],
   "source": [
    "cursor = connection.cursor()"
   ]
  },
  {
   "cell_type": "code",
   "execution_count": 36,
   "id": "d96352a8",
   "metadata": {},
   "outputs": [],
   "source": [
    "res = cursor.execute(\"SELECT * FROM titles\")"
   ]
  },
  {
   "cell_type": "markdown",
   "id": "7c2491ce",
   "metadata": {},
   "source": [
    "## cursor description\n"
   ]
  },
  {
   "cell_type": "code",
   "execution_count": 37,
   "id": "a81f7e5f",
   "metadata": {},
   "outputs": [],
   "source": [
    "desc=cursor.description"
   ]
  },
  {
   "cell_type": "code",
   "execution_count": 27,
   "id": "b22e5c77",
   "metadata": {},
   "outputs": [
    {
     "data": {
      "text/plain": [
       "(('isbn', None, None, None, None, None, None),\n",
       " ('title', None, None, None, None, None, None),\n",
       " ('edition', None, None, None, None, None, None),\n",
       " ('copyright', None, None, None, None, None, None))"
      ]
     },
     "execution_count": 27,
     "metadata": {},
     "output_type": "execute_result"
    }
   ],
   "source": [
    "desc"
   ]
  },
  {
   "cell_type": "markdown",
   "id": "f558f36e",
   "metadata": {},
   "source": [
    "## Loop through the description to get Column Names"
   ]
  },
  {
   "cell_type": "code",
   "execution_count": 38,
   "id": "4b9f32a3",
   "metadata": {},
   "outputs": [],
   "source": [
    "names = list(map(lambda x: x[0],desc))\n"
   ]
  },
  {
   "cell_type": "code",
   "execution_count": 39,
   "id": "ef261d64",
   "metadata": {},
   "outputs": [
    {
     "data": {
      "text/plain": [
       "['isbn', 'title', 'edition', 'copyright']"
      ]
     },
     "execution_count": 39,
     "metadata": {},
     "output_type": "execute_result"
    }
   ],
   "source": [
    "names"
   ]
  },
  {
   "cell_type": "markdown",
   "id": "484ab839",
   "metadata": {},
   "source": [
    "## loop through the data"
   ]
  },
  {
   "cell_type": "code",
   "execution_count": 41,
   "id": "462e51c3",
   "metadata": {},
   "outputs": [],
   "source": [
    "data=res.fetchall()"
   ]
  },
  {
   "cell_type": "code",
   "execution_count": 42,
   "id": "2c963ce8",
   "metadata": {},
   "outputs": [
    {
     "data": {
      "text/plain": [
       "[('0135404673', 'Intro to Python for CS and DS', 1, '2020'),\n",
       " ('0132151006', 'Internet & WWW How to Program', 5, '2012'),\n",
       " ('0134743350', 'Java How to Program', 11, '2018'),\n",
       " ('0133976890', 'C How to Program', 8, '2016'),\n",
       " ('0133406954', 'Visual Basic 2012 How to Program', 6, '2014'),\n",
       " ('0134601548', 'Visual C# How to Program', 6, '2017'),\n",
       " ('0136151574', 'Visual C++ How to Program', 2, '2008'),\n",
       " ('0134448235', 'C++ How to Program', 10, '2017'),\n",
       " ('0134444302', 'Android How to Program', 3, '2017'),\n",
       " ('0134289366', 'Android 6 for Programmers', 3, '2016')]"
      ]
     },
     "execution_count": 42,
     "metadata": {},
     "output_type": "execute_result"
    }
   ],
   "source": [
    "data\n"
   ]
  },
  {
   "cell_type": "code",
   "execution_count": 68,
   "id": "908be89d",
   "metadata": {},
   "outputs": [
    {
     "name": "stdout",
     "output_type": "stream",
     "text": [
      "isbn\t \ttitle\t \tedition\t \tcopyright\n",
      "0135404673\tIntro to Python for CS and DS\t1\t2020\n",
      "0132151006\tInternet & WWW How to Program\t5\t2012\n",
      "0134743350\tJava How to Program\t11\t2018\n",
      "0133976890\tC How to Program\t8\t2016\n",
      "0133406954\tVisual Basic 2012 How to Program\t6\t2014\n",
      "0134601548\tVisual C# How to Program\t6\t2017\n",
      "0136151574\tVisual C++ How to Program\t2\t2008\n",
      "0134448235\tC++ How to Program\t10\t2017\n",
      "0134444302\tAndroid How to Program\t3\t2017\n",
      "0134289366\tAndroid 6 for Programmers\t3\t2016\n"
     ]
    }
   ],
   "source": [
    "print('\\t \\t'.join([str(x) for x in names]))\n",
    "for row in data:\n",
    "    print('\\t'.join([str(x) for x in row])),\n",
    " "
   ]
  },
  {
   "cell_type": "code",
   "execution_count": null,
   "id": "a9ca9f64",
   "metadata": {},
   "outputs": [],
   "source": []
  }
 ],
 "metadata": {
  "kernelspec": {
   "display_name": "Python 3 (ipykernel)",
   "language": "python",
   "name": "python3"
  },
  "language_info": {
   "codemirror_mode": {
    "name": "ipython",
    "version": 3
   },
   "file_extension": ".py",
   "mimetype": "text/x-python",
   "name": "python",
   "nbconvert_exporter": "python",
   "pygments_lexer": "ipython3",
   "version": "3.10.8"
  }
 },
 "nbformat": 4,
 "nbformat_minor": 5
}
