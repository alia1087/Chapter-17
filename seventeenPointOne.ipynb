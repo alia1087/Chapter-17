{
 "cells": [
  {
   "cell_type": "code",
   "execution_count": 1,
   "id": "2b56446a",
   "metadata": {},
   "outputs": [],
   "source": [
    "import sqlite3"
   ]
  },
  {
   "cell_type": "code",
   "execution_count": 2,
   "id": "bf84e670",
   "metadata": {},
   "outputs": [],
   "source": [
    "# establish a connection\n",
    "connection = sqlite3.connect('books.db')"
   ]
  },
  {
   "cell_type": "code",
   "execution_count": 3,
   "id": "830d26ef",
   "metadata": {},
   "outputs": [],
   "source": [
    "#create a cursor object\n",
    "cursor = connection.cursor()"
   ]
  },
  {
   "cell_type": "markdown",
   "id": "44812972",
   "metadata": {},
   "source": [
    "## Select all authors last names from the authors table in descending order."
   ]
  },
  {
   "cell_type": "code",
   "execution_count": 4,
   "id": "15271b13",
   "metadata": {},
   "outputs": [
    {
     "name": "stdout",
     "output_type": "stream",
     "text": [
      "Authors last names in descending order\n",
      "Wald\n",
      "\n",
      "Quirk\n",
      "\n",
      "Deitel\n",
      "\n",
      "Deitel\n",
      "\n",
      "Deitel\n",
      "\n"
     ]
    }
   ],
   "source": [
    "print(\"Authors last names in descending order\")\n",
    "res = cursor.execute(\"SELECT last FROM authors order by last desc\")\n",
    "# get the data\n",
    "data=res.fetchall()\n",
    "for row in data:\n",
    "    print('\\t'.join([str(x) for x in row])),\n",
    "    print('')"
   ]
  },
  {
   "cell_type": "markdown",
   "id": "db5cc5b5",
   "metadata": {},
   "source": [
    "## book titles from the titles table in ascending order."
   ]
  },
  {
   "cell_type": "code",
   "execution_count": 5,
   "id": "7a8210f5",
   "metadata": {},
   "outputs": [
    {
     "name": "stdout",
     "output_type": "stream",
     "text": [
      "Android 6 for Programmers\n",
      "\n",
      "Android How to Program\n",
      "\n",
      "C How to Program\n",
      "\n",
      "C++ How to Program\n",
      "\n",
      "Internet & WWW How to Program\n",
      "\n",
      "Intro to Python for CS and DS\n",
      "\n",
      "Java How to Program\n",
      "\n",
      "Visual Basic 2012 How to Program\n",
      "\n",
      "Visual C# How to Program\n",
      "\n",
      "Visual C++ How to Program\n",
      "\n"
     ]
    }
   ],
   "source": [
    "res = cursor.execute(\"SELECT title FROM titles order by title asc\")\n",
    "# get the data\n",
    "data=res.fetchall()\n",
    "for row in data:\n",
    "    print('\\t'.join([str(x) for x in row])),\n",
    "    print('')\n"
   ]
  },
  {
   "cell_type": "markdown",
   "id": "d8c3bc3d",
   "metadata": {},
   "source": [
    "##  books for a specific author. Include the title,copyright year and ISBN. Order the information alphabetically by title"
   ]
  },
  {
   "cell_type": "code",
   "execution_count": 6,
   "id": "7f984cb6",
   "metadata": {},
   "outputs": [
    {
     "name": "stdout",
     "output_type": "stream",
     "text": [
      "Internet & WWW How to Program\t2012\t5\t0132151006\n",
      "\n",
      "Visual Basic 2012 How to Program\t2014\t6\t0133406954\n",
      "\n"
     ]
    }
   ],
   "source": [
    "res = cursor.execute(\"\"\"\n",
    "SELECT titles.title,titles.copyright,titles.edition,titles.isbn from titles \n",
    "inner join author_ISBN on author_ISBN.isbn = titles.isbn inner join authors on authors.id=author_ISBN.id where\n",
    "authors.id=3 order by titles.title asc \"\"\")\n",
    "# get the data\n",
    "data=res.fetchall()\n",
    "for row in data:\n",
    "    print('\\t'.join([str(x) for x in row])),\n",
    "    print('')\n",
    "\n"
   ]
  },
  {
   "cell_type": "markdown",
   "id": "29d2bf5d",
   "metadata": {},
   "source": [
    "# Inserting a record in the authors table"
   ]
  },
  {
   "cell_type": "code",
   "execution_count": 7,
   "id": "709b7c65",
   "metadata": {},
   "outputs": [
    {
     "name": "stdout",
     "output_type": "stream",
     "text": [
      "1\tPaul\tDeitel\n",
      "\n",
      "2\tHarvey\tDeitel\n",
      "\n",
      "3\tAbbey\tDeitel\n",
      "\n",
      "4\tDan\tQuirk\n",
      "\n",
      "5\tAlexander\tWald\n",
      "\n",
      "6\tHenrik\tIbsen\n",
      "\n"
     ]
    }
   ],
   "source": [
    "res = cursor.execute(\"insert into authors (first,last)values('Henrik','Ibsen')\")\n",
    "rest = cursor.execute(\"\"\"select * from authors\"\"\")\n",
    "# get the data\n",
    "data=rest.fetchall()\n",
    "for row in data:\n",
    "    print('\\t'.join([str(x) for x in row])),\n",
    "    print('')\n"
   ]
  },
  {
   "cell_type": "markdown",
   "id": "0c5bc067",
   "metadata": {},
   "source": [
    "## Insert a new title for an author. Remember that the book must have an entryin the author_ISBN table and an entry in the titles table."
   ]
  },
  {
   "cell_type": "code",
   "execution_count": 8,
   "id": "9cbfe338",
   "metadata": {},
   "outputs": [
    {
     "name": "stdout",
     "output_type": "stream",
     "text": [
      "book titles from the titles table in ascending order.\n",
      "0215404673\tAn Enenmy Of the People\t1\t1883\n",
      "\n",
      "0134289366\tAndroid 6 for Programmers\t3\t2016\n",
      "\n",
      "0134444302\tAndroid How to Program\t3\t2017\n",
      "\n",
      "0133976890\tC How to Program\t8\t2016\n",
      "\n",
      "0134448235\tC++ How to Program\t10\t2017\n",
      "\n",
      "0132151006\tInternet & WWW How to Program\t5\t2012\n",
      "\n",
      "0135404673\tIntro to Python for CS and DS\t1\t2020\n",
      "\n",
      "0134743350\tJava How to Program\t11\t2018\n",
      "\n",
      "0133406954\tVisual Basic 2012 How to Program\t6\t2014\n",
      "\n",
      "0134601548\tVisual C# How to Program\t6\t2017\n",
      "\n",
      "0136151574\tVisual C++ How to Program\t2\t2008\n",
      "\n",
      "\n",
      "\n"
     ]
    }
   ],
   "source": [
    "\n",
    "res = cursor.execute(\"insert into titles (isbn,title,edition,copyright)values('0215404673','An Enenmy Of the People',1,'1883')\")\n",
    "res = cursor.execute(\"insert into author_ISBN (id,isbn)values(3,'0235404673')\")\n",
    "# book titles from the titles table in ascending order\n",
    "print(\"book titles from the titles table in ascending order.\")\n",
    "res = cursor.execute(\"SELECT * FROM titles order by title asc\")\n",
    "# get the data\n",
    "data=res.fetchall()\n",
    "for row in data:\n",
    "    print('\\t'.join([str(x) for x in row])),\n",
    "    print('')\n",
    "print('\\n')"
   ]
  },
  {
   "cell_type": "code",
   "execution_count": 10,
   "id": "24aa48dd",
   "metadata": {},
   "outputs": [],
   "source": [
    "connection.close()"
   ]
  },
  {
   "cell_type": "code",
   "execution_count": null,
   "id": "c8520716",
   "metadata": {},
   "outputs": [],
   "source": []
  }
 ],
 "metadata": {
  "kernelspec": {
   "display_name": "Python 3 (ipykernel)",
   "language": "python",
   "name": "python3"
  },
  "language_info": {
   "codemirror_mode": {
    "name": "ipython",
    "version": 3
   },
   "file_extension": ".py",
   "mimetype": "text/x-python",
   "name": "python",
   "nbconvert_exporter": "python",
   "pygments_lexer": "ipython3",
   "version": "3.10.8"
  }
 },
 "nbformat": 4,
 "nbformat_minor": 5
}
